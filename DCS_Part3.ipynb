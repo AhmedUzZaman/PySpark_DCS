{
 "cells": [
  {
   "cell_type": "markdown",
   "id": "59ec240c",
   "metadata": {},
   "source": [
    "### Reading data from CSV files"
   ]
  },
  {
   "cell_type": "code",
   "execution_count": 1,
   "id": "852f9cff",
   "metadata": {},
   "outputs": [],
   "source": [
    "df1 = spark.read\\\n",
    "          .option(\"header\",True)\\\n",
    "          .option(\"inferSchema\",True)\\\n",
    "          .csv(\"/Users/ahmed.uzzaman/Downloads/Stores.csv\")"
   ]
  },
  {
   "cell_type": "code",
   "execution_count": 2,
   "id": "bbfb0d7e",
   "metadata": {},
   "outputs": [],
   "source": [
    "df2 = spark.read\\\n",
    "          .option(\"header\",True)\\\n",
    "          .option(\"inferSchema\",True)\\\n",
    "          .csv(\"/Users/ahmed.uzzaman/Downloads/Stores_new.csv\")"
   ]
  },
  {
   "cell_type": "code",
   "execution_count": 4,
   "id": "a1df9e29",
   "metadata": {},
   "outputs": [],
   "source": [
    "import datacompy\n",
    "\n",
    "base_df = df1\n",
    "compare_df = df2\n",
    "\n",
    "comparison = datacompy.SparkCompare(spark, base_df, compare_df, join_columns =   [('Store_ID', 'Store_ID')])            "
   ]
  },
  {
   "cell_type": "code",
   "execution_count": 5,
   "id": "1ca9aa1a",
   "metadata": {},
   "outputs": [
    {
     "name": "stdout",
     "output_type": "stream",
     "text": [
      "\n",
      "****** Column Summary ******\n",
      "Number of columns in common with matching schemas: 5\n",
      "Number of columns in common with schema differences: 0\n",
      "Number of columns in base but not compare: 0\n",
      "Number of columns in compare but not base: 0\n"
     ]
    },
    {
     "name": "stderr",
     "output_type": "stream",
     "text": [
      "                                                                                \r"
     ]
    },
    {
     "name": "stdout",
     "output_type": "stream",
     "text": [
      "\n",
      "****** Row Summary ******\n"
     ]
    },
    {
     "name": "stderr",
     "output_type": "stream",
     "text": [
      "\r",
      "[Stage 22:>                 (0 + 1) / 1][Stage 23:>                 (0 + 1) / 1]\r",
      "\r",
      "                                                                                \r"
     ]
    },
    {
     "name": "stdout",
     "output_type": "stream",
     "text": [
      "Number of rows in common: 896\n",
      "Number of rows in base but not compare: 0\n",
      "Number of rows in compare but not base: 3\n",
      "Number of duplicate rows found in base: 0\n",
      "Number of duplicate rows found in compare: 1\n"
     ]
    },
    {
     "name": "stderr",
     "output_type": "stream",
     "text": [
      "                                                                                \r"
     ]
    },
    {
     "name": "stdout",
     "output_type": "stream",
     "text": [
      "\n",
      "****** Row Comparison ******\n",
      "Number of rows with some columns unequal: 5\n",
      "Number of rows with all columns equal: 891\n"
     ]
    },
    {
     "name": "stderr",
     "output_type": "stream",
     "text": [
      "                                                                                \r"
     ]
    },
    {
     "name": "stdout",
     "output_type": "stream",
     "text": [
      "\n",
      "****** Column Comparison ******\n",
      "Number of columns compared with some values unequal: 1\n",
      "Number of columns compared with all values equal: 3\n",
      "\n",
      "****** Columns with Unequal Values ******\n",
      "Base Column Name  Compare Column Name  Base Dtype     Compare Dtype  # Matches  # Mismatches\n",
      "----------------  -------------------  -------------  -------------  ---------  ------------\n",
      "Store_Area        Store_Area           int            int                  891             5\n"
     ]
    }
   ],
   "source": [
    "comparison.report()"
   ]
  }
 ],
 "metadata": {
  "kernelspec": {
   "display_name": "Python 3 (ipykernel)",
   "language": "python",
   "name": "python3"
  },
  "language_info": {
   "codemirror_mode": {
    "name": "ipython",
    "version": 3
   },
   "file_extension": ".py",
   "mimetype": "text/x-python",
   "name": "python",
   "nbconvert_exporter": "python",
   "pygments_lexer": "ipython3",
   "version": "3.10.0"
  }
 },
 "nbformat": 4,
 "nbformat_minor": 5
}
