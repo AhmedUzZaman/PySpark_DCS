{
 "cells": [
  {
   "cell_type": "markdown",
   "id": "59ec240c",
   "metadata": {},
   "source": [
    "### Reading data from CSV files"
   ]
  },
  {
   "cell_type": "code",
   "execution_count": 1,
   "id": "852f9cff",
   "metadata": {},
   "outputs": [],
   "source": [
    "df1 = spark.read\\\n",
    "          .option(\"header\",True)\\\n",
    "          .option(\"inferSchema\",True)\\\n",
    "          .csv(\"/Users/ahmed.uzzaman/Downloads/Stores.csv\")"
   ]
  },
  {
   "cell_type": "code",
   "execution_count": 2,
   "id": "bbfb0d7e",
   "metadata": {},
   "outputs": [],
   "source": [
    "df2 = spark.read\\\n",
    "          .option(\"header\",True)\\\n",
    "          .option(\"inferSchema\",True)\\\n",
    "          .csv(\"/Users/ahmed.uzzaman/Downloads/Stores_new.csv\")"
   ]
  },
  {
   "cell_type": "markdown",
   "id": "d472ae94",
   "metadata": {},
   "source": [
    "## Data Comparison Using DataComPy with PySpark"
   ]
  },
  {
   "cell_type": "code",
   "execution_count": 4,
   "id": "f1f97b03",
   "metadata": {},
   "outputs": [],
   "source": [
    "import datacompy\n",
    "\n",
    "base_df = df1\n",
    "compare_df = df2\n",
    "\n",
    "comparison = datacompy.SparkCompare(spark, base_df, compare_df, join_columns =   [('Store_ID', 'Store_ID')])            "
   ]
  },
  {
   "cell_type": "code",
   "execution_count": 5,
   "id": "58bcbefd",
   "metadata": {},
   "outputs": [
    {
     "name": "stdout",
     "output_type": "stream",
     "text": [
      "\n",
      "****** Column Summary ******\n",
      "Number of columns in common with matching schemas: 5\n",
      "Number of columns in common with schema differences: 0\n",
      "Number of columns in base but not compare: 0\n",
      "Number of columns in compare but not base: 0\n"
     ]
    },
    {
     "name": "stderr",
     "output_type": "stream",
     "text": [
      "                                                                                \r"
     ]
    },
    {
     "name": "stdout",
     "output_type": "stream",
     "text": [
      "\n",
      "****** Row Summary ******\n"
     ]
    },
    {
     "name": "stderr",
     "output_type": "stream",
     "text": [
      "\r",
      "[Stage 22:>                 (0 + 1) / 1][Stage 23:>                 (0 + 1) / 1]\r",
      "\r",
      "                                                                                \r"
     ]
    },
    {
     "name": "stdout",
     "output_type": "stream",
     "text": [
      "Number of rows in common: 896\n",
      "Number of rows in base but not compare: 0\n",
      "Number of rows in compare but not base: 3\n",
      "Number of duplicate rows found in base: 0\n",
      "Number of duplicate rows found in compare: 1\n"
     ]
    },
    {
     "name": "stderr",
     "output_type": "stream",
     "text": [
      "                                                                                \r"
     ]
    },
    {
     "name": "stdout",
     "output_type": "stream",
     "text": [
      "\n",
      "****** Row Comparison ******\n",
      "Number of rows with some columns unequal: 5\n",
      "Number of rows with all columns equal: 891\n"
     ]
    },
    {
     "name": "stderr",
     "output_type": "stream",
     "text": [
      "                                                                                \r"
     ]
    },
    {
     "name": "stdout",
     "output_type": "stream",
     "text": [
      "\n",
      "****** Column Comparison ******\n",
      "Number of columns compared with some values unequal: 1\n",
      "Number of columns compared with all values equal: 3\n",
      "\n",
      "****** Columns with Unequal Values ******\n",
      "Base Column Name  Compare Column Name  Base Dtype     Compare Dtype  # Matches  # Mismatches\n",
      "----------------  -------------------  -------------  -------------  ---------  ------------\n",
      "Store_Area        Store_Area           int            int                  891             5\n"
     ]
    }
   ],
   "source": [
    "comparison.report()"
   ]
  },
  {
   "cell_type": "markdown",
   "id": "a158588d",
   "metadata": {},
   "source": [
    "## Data Comparison Using DataComPy with Pandas"
   ]
  },
  {
   "cell_type": "code",
   "execution_count": 7,
   "id": "84b06ce3",
   "metadata": {},
   "outputs": [],
   "source": [
    "## Converting Spark Dataframe to Pandas Dataframe\n",
    "\n",
    "df1 = df1.toPandas()\n",
    "df2 = df2.toPandas()"
   ]
  },
  {
   "cell_type": "code",
   "execution_count": 8,
   "id": "5bc93174",
   "metadata": {},
   "outputs": [],
   "source": [
    "import datacompy\n",
    "\n",
    "compare = datacompy.Compare(\n",
    "    df1,\n",
    "    df2,\n",
    "    join_columns='Store_ID',\n",
    "    abs_tol=0,\n",
    "    rel_tol=0,\n",
    "    df1_name='original',\n",
    "    df2_name='new')"
   ]
  },
  {
   "cell_type": "code",
   "execution_count": 12,
   "id": "f7dc62a6",
   "metadata": {},
   "outputs": [
    {
     "name": "stdout",
     "output_type": "stream",
     "text": [
      "DataComPy Comparison\n",
      "--------------------\n",
      "\n",
      "DataFrame Summary\n",
      "-----------------\n",
      "\n",
      "  DataFrame  Columns  Rows\n",
      "0  original        5   896\n",
      "1       new        5   900\n",
      "\n",
      "Column Summary\n",
      "--------------\n",
      "\n",
      "Number of columns in common: 5\n",
      "Number of columns in original but not in new: 0\n",
      "Number of columns in new but not in original: 0\n",
      "\n",
      "Row Summary\n",
      "-----------\n",
      "\n",
      "Matched on: store_id\n",
      "Any duplicates on match values: Yes\n",
      "Absolute Tolerance: 0\n",
      "Relative Tolerance: 0\n",
      "Number of rows in common: 896\n",
      "Number of rows in original but not in new: 0\n",
      "Number of rows in new but not in original: 4\n",
      "\n",
      "Number of rows with some compared columns unequal: 5\n",
      "Number of rows with all compared columns equal: 891\n",
      "\n",
      "Column Comparison\n",
      "-----------------\n",
      "\n",
      "Number of columns compared with some values unequal: 1\n",
      "Number of columns compared with all values equal: 4\n",
      "Total number of values which compare unequal: 5\n",
      "\n",
      "Columns with Unequal Values or Types\n",
      "------------------------------------\n",
      "\n",
      "       Column original dtype new dtype  # Unequal  Max Diff  # Null Diff\n",
      "0  store_area          int32     int32          5     111.0            0\n",
      "\n",
      "Sample Rows with Unequal Values\n",
      "-------------------------------\n",
      "\n",
      "     store_id  store_area (original)  store_area (new)\n",
      "398       399                 2063.0              2074\n",
      "849       850                 2067.0              2079\n",
      "540       541                 2214.0              2105\n",
      "466       467                 2229.0              2118\n",
      "91         92                 2169.0              2099\n",
      "\n",
      "Sample Rows Only in new (First 10 Columns)\n",
      "------------------------------------------\n",
      "\n",
      "     store_id  store_area  items_available  daily_customer_count  store_sales\n",
      "896       897        2151             1555                   566        65214\n",
      "897       898        2163             2111                   497        32541\n",
      "898       899        2174             1002                  1021        41256\n",
      "899       899        2174             1002                  1021        41256\n",
      "\n",
      "\n"
     ]
    }
   ],
   "source": [
    "print(compare.report())"
   ]
  },
  {
   "cell_type": "code",
   "execution_count": null,
   "id": "8bbc8c5f",
   "metadata": {},
   "outputs": [],
   "source": []
  }
 ],
 "metadata": {
  "kernelspec": {
   "display_name": "Python 3 (ipykernel)",
   "language": "python",
   "name": "python3"
  },
  "language_info": {
   "codemirror_mode": {
    "name": "ipython",
    "version": 3
   },
   "file_extension": ".py",
   "mimetype": "text/x-python",
   "name": "python",
   "nbconvert_exporter": "python",
   "pygments_lexer": "ipython3",
   "version": "3.10.0"
  }
 },
 "nbformat": 4,
 "nbformat_minor": 5
}
